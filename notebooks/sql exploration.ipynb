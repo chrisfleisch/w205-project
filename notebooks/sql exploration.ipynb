{
 "cells": [
  {
   "cell_type": "code",
   "execution_count": 1,
   "metadata": {
    "collapsed": true
   },
   "outputs": [],
   "source": [
    "from pyspark.sql import HiveContext\n",
    "sqlContext = HiveContext(sc)"
   ]
  },
  {
   "cell_type": "code",
   "execution_count": 2,
   "metadata": {
    "collapsed": false
   },
   "outputs": [
    {
     "name": "stdout",
     "output_type": "stream",
     "text": [
      "+--------------------+-----------+\n",
      "|           tableName|isTemporary|\n",
      "+--------------------+-----------+\n",
      "|    altredditarchive|      false|\n",
      "|altredditarchive_raw|      false|\n",
      "|         altvaprices|      false|\n",
      "|     altvaprices_raw|      false|\n",
      "|        bike_seasons|      false|\n",
      "|      bike_share_raw|      false|\n",
      "|       complications|      false|\n",
      "|      effective_care|      false|\n",
      "|                 foo|      false|\n",
      "|           hospitals|      false|\n",
      "|          infections|      false|\n",
      "|            measures|      false|\n",
      "|          metacritic|      false|\n",
      "|      metacritic_raw|      false|\n",
      "|metacriticwhiskyd...|      false|\n",
      "|metacriticwhiskyd...|      false|\n",
      "|             my_care|      false|\n",
      "|my_combined_proce...|      false|\n",
      "|    my_complications|      false|\n",
      "|        my_hospitals|      false|\n",
      "|       my_infections|      false|\n",
      "|     my_readmissions|      false|\n",
      "|    my_survey_scores|      false|\n",
      "|               proof|      false|\n",
      "|           proof_raw|      false|\n",
      "|        readmissions|      false|\n",
      "|       redditarchive|      false|\n",
      "|   redditarchive_raw|      false|\n",
      "|redditwhiskynetwo...|      false|\n",
      "|redditwhiskynetwo...|      false|\n",
      "|             seasons|      false|\n",
      "|            stadiums|      false|\n",
      "|   surveys_responses|      false|\n",
      "|           user_info|      false|\n",
      "|         vapricelist|      false|\n",
      "|     vapricelist_raw|      false|\n",
      "|            vaprices|      false|\n",
      "|        vaprices_raw|      false|\n",
      "|             weather|      false|\n",
      "|        weblogs_flat|      false|\n",
      "|     weblogs_parquet|      false|\n",
      "|      weblogs_schema|      false|\n",
      "|     web_session_log|      false|\n",
      "+--------------------+-----------+\n",
      "\n"
     ]
    }
   ],
   "source": [
    "sqlContext.sql(\"show tables\").show(50)"
   ]
  },
  {
   "cell_type": "code",
   "execution_count": 3,
   "metadata": {
    "collapsed": false
   },
   "outputs": [
    {
     "name": "stdout",
     "output_type": "stream",
     "text": [
      "+--------------------+--------+\n",
      "|            altbrand|altprice|\n",
      "+--------------------+--------+\n",
      "|     1792 full proof|   47.99|\n",
      "|    1792 finish port|   42.99|\n",
      "|  1792 barrel single|   42.99|\n",
      "|    1792 batch small|   33.99|\n",
      "|    1792 sweet wheat|   39.99|\n",
      "|abraham bowman co...|   39.99|\n",
      "|abraham bowman ed...|   69.99|\n",
      "|         age ancient|    6.49|\n",
      "|         age ancient|   12.99|\n",
      "|         age ancient|   14.99|\n",
      "|         age ancient|   26.99|\n",
      "|age ancient traveler|   12.99|\n",
      "| age ancient ancient|   16.99|\n",
      "| age ancient ancient|   28.99|\n",
      "|angel barrel envy...|   49.99|\n",
      "|               baker|   49.99|\n",
      "|         barterhouse|   75.99|\n",
      "|        basil hayden|   43.99|\n",
      "|         belle meade|   41.99|\n",
      "|belle finish mead...|   85.29|\n",
      "+--------------------+--------+\n",
      "only showing top 20 rows\n",
      "\n"
     ]
    }
   ],
   "source": [
    "sql = \"\"\"\n",
    "SELECT altbrand, altprice from vaprices\n",
    "\"\"\"\n",
    "sqlContext.sql(sql).show()"
   ]
  },
  {
   "cell_type": "code",
   "execution_count": 4,
   "metadata": {
    "collapsed": false
   },
   "outputs": [
    {
     "name": "stdout",
     "output_type": "stream",
     "text": [
      "+--------------------+--------------+------+\n",
      "|            altbrand|altbottleprice|rating|\n",
      "+--------------------+--------------+------+\n",
      "|          100 pipers|          null|    68|\n",
      "|11 13 minnesota w...|          30.0|    75|\n",
      "|     1792 full proof|          null|    85|\n",
      "|     1792 full proof|          50.0|    87|\n",
      "|     1792 full proof|          45.0|    80|\n",
      "|       1792 high rye|          36.0|    86|\n",
      "|    1792 finish port|          null|    79|\n",
      "|    1792 finish port|          38.0|    83|\n",
      "|    1792 finish port|          42.0|    76|\n",
      "|    1792 finish port|          49.0|    75|\n",
      "|    1792 finish port|          40.0|    84|\n",
      "|1792 reserve ridg...|          19.0|    83|\n",
      "|1792 reserve ridg...|          null|    88|\n",
      "|1792 reserve ridg...|          27.0|    84|\n",
      "|1792 reserve ridg...|      40.38289|    85|\n",
      "|1792 reserve ridg...|          42.0|    64|\n",
      "|1792 reserve ridg...|          39.0|    88|\n",
      "|1792 reserve ridg...|          21.0|    74|\n",
      "|1792 reserve ridg...|          29.0|    86|\n",
      "|1792 reserve ridg...|          30.0|    71|\n",
      "+--------------------+--------------+------+\n",
      "only showing top 20 rows\n",
      "\n"
     ]
    }
   ],
   "source": [
    "sql = \"\"\"\n",
    "SELECT altbrand, altbottleprice, rating from redditarchive\n",
    "\"\"\"\n",
    "sqlContext.sql(sql).show()"
   ]
  },
  {
   "cell_type": "code",
   "execution_count": 5,
   "metadata": {
    "collapsed": false
   },
   "outputs": [
    {
     "name": "stdout",
     "output_type": "stream",
     "text": [
      "+--------------------+------------------+-----------------+------------------+\n",
      "|            altbrand|    avgbottleprice|        avgrating|           vaprice|\n",
      "+--------------------+------------------+-----------------+------------------+\n",
      "|        25 laphroaig|              null|             95.0|  499.989990234375|\n",
      "|         30 caol ila| 560.8734741210938|93.33333333333333|  799.989990234375|\n",
      "|         elmer lee t|              40.0|             93.0|  35.9900016784668|\n",
      "|james jesse original|              18.0|             93.0| 19.09000015258789|\n",
      "|15 family pappy r...|147.35714285714286|92.04761904761905| 99.98999786376953|\n",
      "|2015 edition four...|              null|             92.0| 97.38999938964844|\n",
      "|catoctin creek ro...|              53.0|             92.0| 45.09000015258789|\n",
      "|2016 batch editio...|             140.0|             92.0| 97.38999938964844|\n",
      "|          booker rye|             299.5|            91.25|  299.989990234375|\n",
      "|         25 talisker| 194.1177101135254|91.15384615384616|  659.989990234375|\n",
      "|        12 lagavulin| 99.96207358620383|90.57627118644068|128.99000549316406|\n",
      "|    25 highland park| 251.8436737060547|            90.45|  799.989990234375|\n",
      "|10 old rip van wi...| 56.96897561209543|90.29166666666667|  59.9900016784668|\n",
      "| ardbeg corryvreckan| 85.94230104529339|          90.1125| 84.98999786376953|\n",
      "|edition fire high...|              null|             90.0|  399.989990234375|\n",
      "|  1 edition macallan|              95.0|            89.75| 99.98999786376953|\n",
      "|cask laphroaig qu...| 56.18500372628185|89.51851851851852|  59.9900016784668|\n",
      "|        18 laphroaig|  93.0476038733194|89.42857142857143|109.98999786376953|\n",
      "|      angel envy rye| 73.71428571428571|             89.3| 79.98999786376953|\n",
      "|1776 e. james pep...|              25.0|             89.0|29.889999389648438|\n",
      "+--------------------+------------------+-----------------+------------------+\n",
      "only showing top 20 rows\n",
      "\n"
     ]
    }
   ],
   "source": [
    "sql = \"\"\"\n",
    "SELECT a.altbrand, avg(altbottleprice) as avgbottleprice, avg(rating) as avgrating, avg(p.altprice) as vaprice\n",
    "from redditarchive a join vaprices p on a.altbrand = p.altbrand\n",
    "group by a.altbrand order by avgrating desc\n",
    "\"\"\"\n",
    "sqlContext.sql(sql).show()"
   ]
  },
  {
   "cell_type": "code",
   "execution_count": 16,
   "metadata": {
    "collapsed": false
   },
   "outputs": [
    {
     "name": "stdout",
     "output_type": "stream",
     "text": [
      "+--------------------+-----------------+------------------+------------+-----------------+\n",
      "|            altbrand|    reddit_rating|           vaprice|proof_rating|      meta_rating|\n",
      "+--------------------+-----------------+------------------+------------+-----------------+\n",
      "|             bulleit|81.15384615384616| 37.32333437601725|       664.0|8.380000114440918|\n",
      "|        basil hayden|80.14285714285714|  43.9900016784668|       543.0|8.380000114440918|\n",
      "|        forester old|            78.25|26.323333740234375|       473.0|8.109999656677246|\n",
      "|       buffalo trace| 84.3015873015873| 40.99000072479248|       683.0|8.569999694824219|\n",
      "|   114 dad grand old|85.21153846153847|24.989999771118164|        null|8.640000343322754|\n",
      "|          rebel yell|             70.0|21.489999771118164|       612.0|7.449999809265137|\n",
      "|     101 turkey wild| 84.9090909090909|22.906667113304138|        null|8.510000228881836|\n",
      "|barrel creek knob...|             84.5|  47.9900016784668|       530.0|8.800000190734863|\n",
      "|double oaked rese...|             82.0|  56.9900016784668|       623.0|8.720000267028809|\n",
      "+--------------------+-----------------+------------------+------------+-----------------+\n",
      "\n"
     ]
    }
   ],
   "source": [
    "sql = \"\"\"\n",
    "SELECT a.altbrand, avg(a.rating) as reddit_rating, avg(p.altprice) as vaprice, \n",
    "avg(proof.rating) as proof_rating, avg(m.metacritic) as meta_rating\n",
    "from redditarchive a join vaprices p on a.altbrand = p.altbrand join proof on a.altbrand = proof.altbrand \n",
    "join metacritic m on a.altbrand = m.altbrand\n",
    "group by a.altbrand\n",
    "\"\"\"\n",
    "sqlContext.sql(sql).show()"
   ]
  },
  {
   "cell_type": "code",
   "execution_count": null,
   "metadata": {
    "collapsed": true
   },
   "outputs": [],
   "source": []
  }
 ],
 "metadata": {
  "kernelspec": {
   "display_name": "Python 2",
   "language": "python",
   "name": "python2"
  },
  "language_info": {
   "codemirror_mode": {
    "name": "ipython",
    "version": 2
   },
   "file_extension": ".py",
   "mimetype": "text/x-python",
   "name": "python",
   "nbconvert_exporter": "python",
   "pygments_lexer": "ipython2",
   "version": "2.7.13"
  }
 },
 "nbformat": 4,
 "nbformat_minor": 2
}
