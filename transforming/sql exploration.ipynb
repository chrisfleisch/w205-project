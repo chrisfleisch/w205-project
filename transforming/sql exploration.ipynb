{
 "cells": [
  {
   "cell_type": "code",
   "execution_count": 1,
   "metadata": {
    "collapsed": true
   },
   "outputs": [],
   "source": [
    "from pyspark.sql import HiveContext\n",
    "sqlContext = HiveContext(sc)"
   ]
  },
  {
   "cell_type": "code",
   "execution_count": 2,
   "metadata": {
    "collapsed": false
   },
   "outputs": [
    {
     "name": "stdout",
     "output_type": "stream",
     "text": [
      "+--------------------+-----------+\n",
      "|           tableName|isTemporary|\n",
      "+--------------------+-----------+\n",
      "|    altredditarchive|      false|\n",
      "|altredditarchive_raw|      false|\n",
      "|         altvaprices|      false|\n",
      "|     altvaprices_raw|      false|\n",
      "|        bike_seasons|      false|\n",
      "|      bike_share_raw|      false|\n",
      "|       complications|      false|\n",
      "|      effective_care|      false|\n",
      "|                 foo|      false|\n",
      "|           hospitals|      false|\n",
      "|          infections|      false|\n",
      "|            measures|      false|\n",
      "|metacriticwhiskyd...|      false|\n",
      "|metacriticwhiskyd...|      false|\n",
      "|             my_care|      false|\n",
      "|my_combined_proce...|      false|\n",
      "|    my_complications|      false|\n",
      "|        my_hospitals|      false|\n",
      "|       my_infections|      false|\n",
      "|     my_readmissions|      false|\n",
      "|    my_survey_scores|      false|\n",
      "|               proof|      false|\n",
      "|           proof_raw|      false|\n",
      "|        readmissions|      false|\n",
      "|redditwhiskynetwo...|      false|\n",
      "|redditwhiskynetwo...|      false|\n",
      "|             seasons|      false|\n",
      "|            stadiums|      false|\n",
      "|   surveys_responses|      false|\n",
      "|           user_info|      false|\n",
      "|         vapricelist|      false|\n",
      "|     vapricelist_raw|      false|\n",
      "|             weather|      false|\n",
      "|        weblogs_flat|      false|\n",
      "|     weblogs_parquet|      false|\n",
      "|      weblogs_schema|      false|\n",
      "|     web_session_log|      false|\n",
      "+--------------------+-----------+\n",
      "\n"
     ]
    }
   ],
   "source": [
    "sqlContext.sql(\"show tables\").show(50)"
   ]
  },
  {
   "cell_type": "code",
   "execution_count": 6,
   "metadata": {
    "collapsed": false
   },
   "outputs": [
    {
     "name": "stdout",
     "output_type": "stream",
     "text": [
      "+--------------------+--------+\n",
      "|            altbrand|altprice|\n",
      "+--------------------+--------+\n",
      "|     1792 full proof|   47.99|\n",
      "|    1792 port finish|   42.99|\n",
      "|  1792 single barrel|   42.99|\n",
      "|    1792 small batch|   33.99|\n",
      "|    1792 sweet wheat|   39.99|\n",
      "|abraham bowman gi...|   39.99|\n",
      "|abraham bowman wh...|   69.99|\n",
      "|         ancient age|    6.49|\n",
      "|         ancient age|   12.99|\n",
      "|         ancient age|   14.99|\n",
      "|         ancient age|   26.99|\n",
      "|ancient age traveler|   12.99|\n",
      "| ancient ancient age|   16.99|\n",
      "| ancient ancient age|   28.99|\n",
      "|angel envy port b...|   49.99|\n",
      "|               baker|   49.99|\n",
      "|         barterhouse|   75.99|\n",
      "|        basil hayden|   43.99|\n",
      "|         belle meade|   41.99|\n",
      "|belle meade sherr...|   85.29|\n",
      "+--------------------+--------+\n",
      "only showing top 20 rows\n",
      "\n"
     ]
    }
   ],
   "source": [
    "sql = \"\"\"\n",
    "SELECT altbrand, altprice from altvaprices\n",
    "\"\"\"\n",
    "sqlContext.sql(sql).show()"
   ]
  },
  {
   "cell_type": "code",
   "execution_count": 10,
   "metadata": {
    "collapsed": false
   },
   "outputs": [
    {
     "name": "stdout",
     "output_type": "stream",
     "text": [
      "+--------------------+--------------+------+\n",
      "|            altbrand|altbottleprice|rating|\n",
      "+--------------------+--------------+------+\n",
      "|          100 pipers|          null|    68|\n",
      "|11 wells minnesot...|          30.0|    75|\n",
      "|     1792 full proof|          null|    85|\n",
      "|     1792 full proof|          50.0|    87|\n",
      "|     1792 full proof|          45.0|    80|\n",
      "|       1792 high rye|          36.0|    86|\n",
      "|    1792 port finish|          null|    79|\n",
      "|    1792 port finish|          38.0|    83|\n",
      "|    1792 port finish|          42.0|    76|\n",
      "|    1792 port finish|          49.0|    75|\n",
      "|    1792 port finish|          40.0|    84|\n",
      "|1792 ridgemont re...|          19.0|    83|\n",
      "|1792 ridgemont re...|          null|    88|\n",
      "|1792 ridgemont re...|          27.0|    84|\n",
      "|1792 ridgemont re...|     40.555763|    85|\n",
      "|1792 ridgemont re...|          42.0|    64|\n",
      "|1792 ridgemont re...|          39.0|    88|\n",
      "|1792 ridgemont re...|          21.0|    74|\n",
      "|1792 ridgemont re...|          29.0|    86|\n",
      "|1792 ridgemont re...|          30.0|    71|\n",
      "+--------------------+--------------+------+\n",
      "only showing top 20 rows\n",
      "\n"
     ]
    }
   ],
   "source": [
    "sql = \"\"\"\n",
    "SELECT altbrand, altbottleprice, rating from altredditarchive\n",
    "\"\"\"\n",
    "sqlContext.sql(sql).show()"
   ]
  },
  {
   "cell_type": "code",
   "execution_count": 17,
   "metadata": {
    "collapsed": false
   },
   "outputs": [
    {
     "name": "stdout",
     "output_type": "stream",
     "text": [
      "+--------------------+------------------+-----------------+------------------+\n",
      "|            altbrand|    avgbottleprice|        avgrating|           vaprice|\n",
      "+--------------------+------------------+-----------------+------------------+\n",
      "|         caol ila 30| 563.2744750976562|93.33333333333333|  799.989990234375|\n",
      "|original jesse james|              18.0|             93.0| 19.09000015258789|\n",
      "|pappy van winkle ...|147.35714285714286|92.04761904761905| 99.98999786376953|\n",
      "|four roses limite...|              null|             92.0| 97.38999938964844|\n",
      "|four roses small ...|             140.0|             92.0| 97.38999938964844|\n",
      "|catoctin creek ro...|              53.0|             92.0| 45.09000015258789|\n",
      "|          booker rye|             299.5|            91.25|  299.989990234375|\n",
      "|         talisker 25|194.31299209594727|91.15384615384616|  659.989990234375|\n",
      "|macallan edition ...|              95.0|             91.0| 99.98999786376953|\n",
      "|        lagavulin 12| 99.97332694313742|90.57627118644068|128.99000549316406|\n",
      "|old rip van winkl...| 56.98841258457729|90.29166666666667|  59.9900016784668|\n",
      "| ardbeg corryvreckan| 85.95802771526834|          90.1125| 84.98999786376953|\n",
      "|highland park fir...|              null|             90.0|  399.989990234375|\n",
      "|laphroaig quarter...|56.208520443640026|89.51851851851852|  59.9900016784668|\n",
      "|        laphroaig 18| 93.09748591933139|89.42857142857143|109.98999786376953|\n",
      "|      angel envy rye| 73.71428571428571|             89.3| 79.98999786376953|\n",
      "|james e. pepper 1...|              25.0|             89.0|29.889999389648438|\n",
      "|         talisker 18|102.28877512613933|88.61538461538461|149.99000549316406|\n",
      "|talisker distille...| 77.83948262532552|88.57142857142857| 95.98999786376953|\n",
      "|old forester birt...|              90.0|             88.5| 79.98999786376953|\n",
      "+--------------------+------------------+-----------------+------------------+\n",
      "only showing top 20 rows\n",
      "\n"
     ]
    }
   ],
   "source": [
    "sql = \"\"\"\n",
    "SELECT a.altbrand, avg(altbottleprice) as avgbottleprice, avg(rating) as avgrating, avg(p.altprice) as vaprice\n",
    "from altredditarchive a join altvaprices p on a.altbrand = p.altbrand\n",
    "group by a.altbrand order by avgrating desc\n",
    "\"\"\"\n",
    "sqlContext.sql(sql).show()"
   ]
  },
  {
   "cell_type": "code",
   "execution_count": null,
   "metadata": {
    "collapsed": true
   },
   "outputs": [],
   "source": []
  }
 ],
 "metadata": {
  "kernelspec": {
   "display_name": "Python 2",
   "language": "python",
   "name": "python2"
  },
  "language_info": {
   "codemirror_mode": {
    "name": "ipython",
    "version": 2
   },
   "file_extension": ".py",
   "mimetype": "text/x-python",
   "name": "python",
   "nbconvert_exporter": "python",
   "pygments_lexer": "ipython2",
   "version": "2.7.13"
  }
 },
 "nbformat": 4,
 "nbformat_minor": 2
}
